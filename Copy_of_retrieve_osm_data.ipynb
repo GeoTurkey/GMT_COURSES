{
  "nbformat": 4,
  "nbformat_minor": 0,
  "metadata": {
    "kernelspec": {
      "display_name": "Python 3",
      "language": "python",
      "name": "python3"
    },
    "language_info": {
      "codemirror_mode": {
        "name": "ipython",
        "version": 3
      },
      "file_extension": ".py",
      "mimetype": "text/x-python",
      "name": "python",
      "nbconvert_exporter": "python",
      "pygments_lexer": "ipython3",
      "version": "3.7.9"
    },
    "colab": {
      "name": "Copy of retrieve_osm_data.ipynb",
      "provenance": [],
      "collapsed_sections": [],
      "include_colab_link": true
    }
  },
  "cells": [
    {
      "cell_type": "markdown",
      "metadata": {
        "id": "view-in-github",
        "colab_type": "text"
      },
      "source": [
        "<a href=\"https://colab.research.google.com/github/GeoTurkey/GMT_COURSES/blob/main/Copy_of_retrieve_osm_data.ipynb\" target=\"_parent\"><img src=\"https://colab.research.google.com/assets/colab-badge.svg\" alt=\"Open In Colab\"/></a>"
      ]
    },
    {
      "cell_type": "code",
      "metadata": {
        "id": "UYZcn8PKPgp8"
      },
      "source": [
        "! pip install osmnx\n",
        "! pip install matplotlib==3.3\n"
      ],
      "execution_count": null,
      "outputs": []
    },
    {
      "cell_type": "code",
      "metadata": {
        "id": "jyOrsnErPZCE"
      },
      "source": [
        "import osmnx as ox\n",
        "import matplotlib.pyplot as plt\n",
        "from pyproj import CRS"
      ],
      "execution_count": null,
      "outputs": []
    },
    {
      "cell_type": "code",
      "metadata": {
        "id": "4IKWXkUse97V"
      },
      "source": [
        "# Specify the name that is used to seach for the data\n",
        "place_name = \"Çukurambar Mahallesi, Ankara, Turkey\""
      ],
      "execution_count": null,
      "outputs": []
    },
    {
      "cell_type": "markdown",
      "metadata": {
        "id": "uewiHXRvPZCI"
      },
      "source": [
        "Next, we will read in the OSM street network using OSMnx using the [graph_from_place](https://osmnx.readthedocs.io/en/stable/osmnx.html?highlight=graph%20from#osmnx.graph.graph_from_place) function:"
      ]
    },
    {
      "cell_type": "code",
      "metadata": {
        "scrolled": true,
        "id": "g_xo7-zrPZCJ"
      },
      "source": [
        "# Fetch OSM street network from the location\n",
        "graph = ox.graph_from_place(place_name)"
      ],
      "execution_count": null,
      "outputs": []
    },
    {
      "cell_type": "markdown",
      "metadata": {
        "id": "1cvDd-KbPZCK"
      },
      "source": [
        "Check the data type of the graph:"
      ]
    },
    {
      "cell_type": "code",
      "metadata": {
        "id": "aQCqspraPZCK"
      },
      "source": [
        "# dtype\n",
        "type(graph)"
      ],
      "execution_count": null,
      "outputs": []
    },
    {
      "cell_type": "code",
      "metadata": {
        "id": "xPi2Y2gFPZCL"
      },
      "source": [
        "# Plot the streets\n",
        "fig, ax = ox.plot_graph(graph)"
      ],
      "execution_count": null,
      "outputs": []
    },
    {
      "cell_type": "markdown",
      "metadata": {
        "id": "lAAQBkFoPZCL"
      },
      "source": [
        "Great! Now we can see that our graph contains nodes (the points) and edges (the lines) that connects those nodes to each other."
      ]
    },
    {
      "cell_type": "code",
      "metadata": {
        "id": "5_foJvR_PZCM"
      },
      "source": [
        "# Retrieve nodes and edges\n",
        "nodes, edges = ox.graph_to_gdfs(graph)"
      ],
      "execution_count": null,
      "outputs": []
    },
    {
      "cell_type": "code",
      "metadata": {
        "id": "dw4qzwJWPZCM"
      },
      "source": [
        "nodes.head()"
      ],
      "execution_count": null,
      "outputs": []
    },
    {
      "cell_type": "code",
      "metadata": {
        "id": "_BBasp4SPZCN"
      },
      "source": [
        "edges.head()"
      ],
      "execution_count": null,
      "outputs": []
    },
    {
      "cell_type": "code",
      "metadata": {
        "id": "vd9V_oI7PZCO"
      },
      "source": [
        "# Get place boundary related to the place name as a geodataframe\n",
        "area = ox.geocode_to_gdf(place_name)\n"
      ],
      "execution_count": null,
      "outputs": []
    },
    {
      "cell_type": "markdown",
      "metadata": {
        "id": "jqszsygUPZCP"
      },
      "source": [
        "Let's also have a look at the data:"
      ]
    },
    {
      "cell_type": "code",
      "metadata": {
        "id": "AcTCIoXgPZCQ"
      },
      "source": [
        "# Check data values\n",
        "area\n"
      ],
      "execution_count": null,
      "outputs": []
    },
    {
      "cell_type": "code",
      "metadata": {
        "id": "5Vb6l3L5PZCQ"
      },
      "source": [
        "# Plot the area:\n",
        "area.plot(figsize=(16,8))\n",
        "plt.ticklabel_format(axis=\"y\", style=\"plain\",scilimits=(0,0),useOffset=False)\n"
      ],
      "execution_count": null,
      "outputs": []
    },
    {
      "cell_type": "code",
      "metadata": {
        "id": "3SAon9pFPZCR"
      },
      "source": [
        "# List key-value pairs for tags\n",
        "tags = {'building': True}\n"
      ],
      "execution_count": null,
      "outputs": []
    },
    {
      "cell_type": "code",
      "metadata": {
        "id": "gckGmVrlPZCR"
      },
      "source": [
        "# get buildings geometries \n",
        "buildings = ox.geometries_from_place(place_name, tags)\n"
      ],
      "execution_count": null,
      "outputs": []
    },
    {
      "cell_type": "code",
      "metadata": {
        "id": "mQoMG6xAvQJ1"
      },
      "source": [
        "print(len(buildings))"
      ],
      "execution_count": null,
      "outputs": []
    },
    {
      "cell_type": "markdown",
      "metadata": {
        "id": "tbremkqsPZCS"
      },
      "source": [
        "Let's also have a look at the data:"
      ]
    },
    {
      "cell_type": "code",
      "metadata": {
        "id": "YytKeUUUPZCS"
      },
      "source": [
        "buildings.head()"
      ],
      "execution_count": null,
      "outputs": []
    },
    {
      "cell_type": "code",
      "metadata": {
        "id": "Uz0J_0f1PZCU"
      },
      "source": [
        "# List key-value pairs for tags\n",
        "tags = {'amenity': 'restaurant'}\n"
      ],
      "execution_count": null,
      "outputs": []
    },
    {
      "cell_type": "code",
      "metadata": {
        "id": "WcN9CDVPPZCU"
      },
      "source": [
        "# Retrieve restaurants\n",
        "restaurants = ox.geometries_from_place(place_name, tags)\n",
        "\n",
        "# How many restaurants do we have?\n",
        "len(restaurants)"
      ],
      "execution_count": null,
      "outputs": []
    },
    {
      "cell_type": "markdown",
      "metadata": {
        "id": "Kih5wm6-PZCX"
      },
      "source": [
        "### Plotting the data\n",
        "\n",
        "Let's create a map out of the streets, buildings, restaurants, and the area Polygon but let's exclude the nodes (to keep the figure clearer)."
      ]
    },
    {
      "cell_type": "code",
      "metadata": {
        "id": "gkCe46MnPZCY"
      },
      "source": [
        "fig, ax = plt.subplots(figsize=(12,8))\n",
        "\n",
        "# Plot the footprint\n",
        "area.plot(ax=ax, facecolor='black')\n",
        "\n",
        "# Plot street edges\n",
        "edges.plot(ax=ax, linewidth=1, edgecolor='dimgray')\n",
        "\n",
        "# Plot buildings\n",
        "buildings.plot(ax=ax, facecolor='silver', alpha=0.7)\n",
        "\n",
        "# Plot restaurants\n",
        "restaurants.plot(ax=ax, color='yellow', alpha=0.7, markersize=10)\n",
        "plt.tight_layout()"
      ],
      "execution_count": null,
      "outputs": []
    },
    {
      "cell_type": "markdown",
      "metadata": {
        "id": "mB3erh3zPZCa"
      },
      "source": [
        "### Extra: Park polygons\n"
      ]
    },
    {
      "cell_type": "code",
      "metadata": {
        "id": "QLWpGR3ZPZCb"
      },
      "source": [
        "# List key-value pairs for tags\n",
        "tags = {'leisure': 'park', 'landuse': 'grass'}"
      ],
      "execution_count": null,
      "outputs": []
    },
    {
      "cell_type": "code",
      "metadata": {
        "id": "_EyjwV99PZCb"
      },
      "source": [
        "# Get the data\n",
        "parks = ox.geometries_from_place(place_name, tags)\n",
        "\n",
        "# Check the result\n",
        "print(\"Retrieved\", len(parks), \"objects\")"
      ],
      "execution_count": null,
      "outputs": []
    },
    {
      "cell_type": "markdown",
      "metadata": {
        "id": "EEA6XNOEPZCb"
      },
      "source": [
        "let's check the first rows:"
      ]
    },
    {
      "cell_type": "code",
      "metadata": {
        "id": "G8p5YDWVPZCc"
      },
      "source": [
        "parks.head(3)"
      ],
      "execution_count": null,
      "outputs": []
    },
    {
      "cell_type": "markdown",
      "metadata": {
        "id": "dG00BofJPZCc"
      },
      "source": [
        "Check all column headers:"
      ]
    },
    {
      "cell_type": "code",
      "metadata": {
        "id": "tU-6mHvHPZCc"
      },
      "source": [
        "parks.columns.values"
      ],
      "execution_count": null,
      "outputs": []
    },
    {
      "cell_type": "markdown",
      "metadata": {
        "id": "xipitEYyPZCd"
      },
      "source": [
        "plot the parks:"
      ]
    },
    {
      "cell_type": "code",
      "metadata": {
        "id": "h0_k3h1DPZCd"
      },
      "source": [
        "parks.plot(color=\"green\")"
      ],
      "execution_count": null,
      "outputs": []
    },
    {
      "cell_type": "markdown",
      "metadata": {
        "id": "COVPnKNzPZCd"
      },
      "source": [
        "Finally, we can add the park polygons to our map:"
      ]
    },
    {
      "cell_type": "code",
      "metadata": {
        "id": "9NMUdRfsPZCe"
      },
      "source": [
        "fig, ax = plt.subplots(figsize=(12,8))\n",
        "\n",
        "# Plot the footprint\n",
        "area.plot(ax=ax, facecolor='black')\n",
        "\n",
        "# Plot the parks\n",
        "parks.plot(ax=ax, facecolor=\"green\")\n",
        "\n",
        "# Plot street edges\n",
        "edges.plot(ax=ax, linewidth=1, edgecolor='dimgray')\n",
        "\n",
        "# Plot buildings\n",
        "buildings.plot(ax=ax, facecolor='silver', alpha=0.7)\n",
        "\n",
        "# Plot restaurants\n",
        "restaurants.plot(ax=ax, color='yellow', alpha=0.7, markersize=10)\n",
        "plt.tight_layout()"
      ],
      "execution_count": null,
      "outputs": []
    }
  ]
}