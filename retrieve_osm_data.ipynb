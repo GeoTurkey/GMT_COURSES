{
  "nbformat": 4,
  "nbformat_minor": 0,
  "metadata": {
    "kernelspec": {
      "display_name": "Python 3",
      "language": "python",
      "name": "python3"
    },
    "language_info": {
      "codemirror_mode": {
        "name": "ipython",
        "version": 3
      },
      "file_extension": ".py",
      "mimetype": "text/x-python",
      "name": "python",
      "nbconvert_exporter": "python",
      "pygments_lexer": "ipython3",
      "version": "3.7.9"
    },
    "colab": {
      "name": "retrieve_osm_data.ipynb",
      "provenance": [],
      "collapsed_sections": [],
      "include_colab_link": true
    }
  },
  "cells": [
    {
      "cell_type": "markdown",
      "metadata": {
        "id": "view-in-github",
        "colab_type": "text"
      },
      "source": [
        "<a href=\"https://colab.research.google.com/github/GeoTurkey/GMT_COURSES/blob/main/retrieve_osm_data.ipynb\" target=\"_parent\"><img src=\"https://colab.research.google.com/assets/colab-badge.svg\" alt=\"Open In Colab\"/></a>"
      ]
    },
    {
      "cell_type": "markdown",
      "metadata": {
        "id": "B10cCPXUPZB7"
      },
      "source": [
        "# Retrieving OpenStreetMap data\n",
        "\n",
        "![](img/OSM_logo.png)\n",
        "\n",
        "## What is OpenStreetMap?\n",
        "\n",
        "OpenStreetMap (OSM) is a global collaborative (crowd-sourced) dataset and project that aims at creating a free editable map of the world containing a lot of information about our environment.\n",
        "It contains data for example about streets, buildings, different services, and landuse to mention a few. You can view the map at www.openstreetmap.org. You can also sign up as a contributor if you want to edit the map. More details about OpenStreetMap and its contents are available in the [OpenStreetMap Wiki](https://wiki.openstreetmap.org/wiki/Main_Page).\n",
        "\n",
        "OSM has a large userbase with more than 4 million users and over a million contributers that update actively the OSM database with 3 million changesets per day. In total OSM contains 5 billion nodes and counting! ([stats from November 2019](http://wiki.openstreetmap.org/wiki/Stats)).\n",
        "\n",
        "OpenStreetMap is used not only for integrating the **OSM maps** as background maps to visualizations or online maps, but also for many other purposes such as **routing**, **geocoding**, **education**, and **research**. OSM is also widely used for humanitarian response e.g. in crisis areas (e.g. after natural disasters) and for fostering economic development. Read more about humanitarian projects that use OSM data from the [Humanitarian OpenStreetMap Team (HOTOSM) website](https://www.hotosm.org).\n"
      ]
    },
    {
      "cell_type": "markdown",
      "metadata": {
        "id": "herSJ2ktPZCA"
      },
      "source": [
        "## OSMnx\n",
        "\n",
        "This week we will explore a Python module called [OSMnx](https://github.com/gboeing/osmnx)\n",
        "that can be used to retrieve, construct, analyze, and visualize street networks from OpenStreetMap, and also retrieve data about Points of Interest such as restaurants, schools, and lots of different kind of services. It is also easy to conduct network routing based on walking, cycling or driving by combining OSMnx functionalities with a package called [NetworkX](https://networkx.github.io/documentation/stable/).\n",
        "\n",
        "To get an overview of the capabilities of the package, see an introductory video given by the lead developer of the package, Prof. Geoff Boeing: [\"Meet the developer: Introduction to OSMnx package by Geoff Boeing\"](https://www.youtube.com/watch?v=Q0uxu25ddc4&list=PLs9D4XVqc6dCAhhvhZB7aHGD8fCeCC_6N).\n",
        "\n",
        "There is also a scientific article available describing the package:\n",
        "\n",
        "- Boeing, G. 2017. [\"OSMnx: New Methods for Acquiring, Constructing, Analyzing, and Visualizing Complex Street Networks.\"](https://www.researchgate.net/publication/309738462_OSMnx_New_Methods_for_Acquiring_Constructing_Analyzing_and_Visualizing_Complex_Street_Networks) Computers, Environment and Urban Systems 65, 126-139. doi:10.1016/j.compenvurbsys.2017.05.004"
      ]
    },
    {
      "cell_type": "markdown",
      "metadata": {
        "id": "Q_COJJ0TPZCD"
      },
      "source": [
        "## Download and visualize OpenStreetMap data with OSMnx\n",
        "\n",
        "One the most useful features that OSMnx provides is an easy-to-use way of retrieving [OpenStreetMap](http://www.openstreetmap.org) data (using [OverPass API](http://wiki.openstreetmap.org/wiki/Overpass_API)).\n",
        "\n",
        "In this tutorial, we will learn how to download and visualize OSM data covering a specified area of interest: a district of Kamppi in Helsinki, Finland.\n",
        "\n",
        "### Street network\n",
        "\n",
        "OSMnx makes it really easy to do that as it allows you to specify an address to retrieve the OpenStreetMap data around that area. In fact, OSMnx uses the same Nominatim Geocoding API tthat we used for geocoding in Lesson 2."
      ]
    },
    {
      "cell_type": "code",
      "metadata": {
        "id": "UYZcn8PKPgp8"
      },
      "source": [
        "! pip install osmnx\n",
        "! pip install matplotlib==3.3\n"
      ],
      "execution_count": null,
      "outputs": []
    },
    {
      "cell_type": "code",
      "metadata": {
        "id": "jyOrsnErPZCE"
      },
      "source": [
        "import osmnx as ox\n",
        "import matplotlib.pyplot as plt\n",
        "from pyproj import CRS"
      ],
      "execution_count": 65,
      "outputs": []
    },
    {
      "cell_type": "markdown",
      "metadata": {
        "id": "2c0b49yOPZCG"
      },
      "source": [
        "Let's start by specifying ``\"Kamppi, Helsinki, Finland\"`` as the place from where the data should be downloaded. The place name should be *geocodable* which means that the place name should exist in the OpenStreetMap database (you can do a test search at https://www.openstreetmap.org/ or at https://nominatim.openstreetmap.org/ to verify that the place name is valid).  "
      ]
    },
    {
      "cell_type": "code",
      "metadata": {
        "id": "4IKWXkUse97V"
      },
      "source": [
        "# Specify the name that is used to seach for the data\n",
        "place_name = \"Kamppi, Helsinki, Finland\""
      ],
      "execution_count": 66,
      "outputs": []
    },
    {
      "cell_type": "markdown",
      "metadata": {
        "id": "uewiHXRvPZCI"
      },
      "source": [
        "Next, we will read in the OSM street network using OSMnx using the [graph_from_place](https://osmnx.readthedocs.io/en/stable/osmnx.html?highlight=graph%20from#osmnx.graph.graph_from_place) function:"
      ]
    },
    {
      "cell_type": "code",
      "metadata": {
        "scrolled": true,
        "id": "g_xo7-zrPZCJ"
      },
      "source": [
        "# Fetch OSM street network from the location\n",
        "graph = ox.graph_from_place(place_name)"
      ],
      "execution_count": 67,
      "outputs": []
    },
    {
      "cell_type": "markdown",
      "metadata": {
        "id": "1cvDd-KbPZCK"
      },
      "source": [
        "Check the data type of the graph:"
      ]
    },
    {
      "cell_type": "code",
      "metadata": {
        "id": "aQCqspraPZCK"
      },
      "source": [
        "# dtype\n",
        "type(graph)"
      ],
      "execution_count": null,
      "outputs": []
    },
    {
      "cell_type": "markdown",
      "metadata": {
        "id": "kBORMC4UPZCK"
      },
      "source": [
        "What we have here is a networkx [MultiDiGraph](https://networkx.org/documentation/networkx-1.10/reference/classes.multidigraph.html) object. \n",
        "\n",
        "Let's have a closer look a the street nework. OSMnx has its own function [plot_graph()](https://osmnx.readthedocs.io/en/stable/osmnx.html?highlight=plot_graph#osmnx.plot.plot_graph) for visualizing graph objects. The function utilizes Matplotlib for visualizing the data,\n",
        "hence as a result it returns a matplotlib figure and axis objects:\n"
      ]
    },
    {
      "cell_type": "code",
      "metadata": {
        "id": "xPi2Y2gFPZCL"
      },
      "source": [
        "# Plot the streets\n",
        "fig, ax = ox.plot_graph(graph)"
      ],
      "execution_count": null,
      "outputs": []
    },
    {
      "cell_type": "markdown",
      "metadata": {
        "id": "lAAQBkFoPZCL"
      },
      "source": [
        "Great! Now we can see that our graph contains nodes (the points) and edges (the lines) that connects those nodes to each other."
      ]
    },
    {
      "cell_type": "markdown",
      "metadata": {
        "id": "Pyv5RXgiPZCM"
      },
      "source": [
        "\n",
        "### Graph to GeoDataFrame\n",
        "\n",
        "We can now plot all these different OSM layers by using the familiar `plot()` function of Geopandas. As you might remember, the street network data is not a GeoDataFrame, but a graph object. Luckily, OSMnx provides a convenient function `graph_to_gdfs()` that can convert the graph into two separate GeoDataFrames where the first one contains the information about the nodes and the second one about the edge.\n",
        "\n",
        "Let's extract the nodes and edges from the graph as GeoDataFrames:"
      ]
    },
    {
      "cell_type": "code",
      "metadata": {
        "id": "5_foJvR_PZCM"
      },
      "source": [
        "# Retrieve nodes and edges\n",
        "nodes, edges = ox.graph_to_gdfs(graph)"
      ],
      "execution_count": 70,
      "outputs": []
    },
    {
      "cell_type": "code",
      "metadata": {
        "id": "dw4qzwJWPZCM"
      },
      "source": [
        "nodes.head()"
      ],
      "execution_count": null,
      "outputs": []
    },
    {
      "cell_type": "code",
      "metadata": {
        "id": "_BBasp4SPZCN"
      },
      "source": [
        "edges.head()"
      ],
      "execution_count": null,
      "outputs": []
    },
    {
      "cell_type": "markdown",
      "metadata": {
        "id": "hvqWNF_XPZCN"
      },
      "source": [
        "Nice! Now, as we can see, we have our graph as GeoDataFrames and we can plot them using the same functions and tools as we have used before.\n",
        "\n",
        "<div class=\"alert alert-info\">\n",
        "\n",
        "**Note**\n",
        "\n",
        "There are also other ways of retrieving the data from OpenStreetMap with OSMnx such as passing a Polygon to extract the data from that area, or passing Point coordinates and retrieving data around that location with specific radius. Take a look of this [tutorial to find out how to use those features of OSMnx](https://github.com/gboeing/osmnx-examples/blob/master/notebooks/01-overview-osmnx.ipynb).\n",
        "\n",
        "\n",
        "</div>"
      ]
    },
    {
      "cell_type": "markdown",
      "metadata": {
        "id": "en-rq3jePZCO"
      },
      "source": [
        "### Place polygon\n",
        "\n",
        "Let's also plot the Polygon that represents our area of interest (Kamppi, Helsinki). We can retrieve the Polygon geometry using the [geocode_to_gdf()](https://osmnx.readthedocs.io/en/stable/osmnx.html?highlight=geocode_to_gdf(#osmnx.geocoder.geocode_to_gdf) -function."
      ]
    },
    {
      "cell_type": "code",
      "metadata": {
        "id": "vd9V_oI7PZCO"
      },
      "source": [
        "# Get place boundary related to the place name as a geodataframe\n",
        "area = ox.geocode_to_gdf(place_name)\n"
      ],
      "execution_count": 73,
      "outputs": []
    },
    {
      "cell_type": "markdown",
      "metadata": {
        "id": "kYdhEO0YPZCP"
      },
      "source": [
        "As the name of the function already tells us, `gdf_from_place()`returns a GeoDataFrame based on the specified place name query.\n",
        "Let's still verify the data type: "
      ]
    },
    {
      "cell_type": "code",
      "metadata": {
        "id": "Sl9XlQBxPZCP"
      },
      "source": [
        "# Check the data type\n",
        "type(area)\n"
      ],
      "execution_count": null,
      "outputs": []
    },
    {
      "cell_type": "markdown",
      "metadata": {
        "id": "jqszsygUPZCP"
      },
      "source": [
        "Let's also have a look at the data:"
      ]
    },
    {
      "cell_type": "code",
      "metadata": {
        "id": "AcTCIoXgPZCQ"
      },
      "source": [
        "# Check data values\n",
        "area\n"
      ],
      "execution_count": null,
      "outputs": []
    },
    {
      "cell_type": "code",
      "metadata": {
        "id": "5Vb6l3L5PZCQ"
      },
      "source": [
        "# Plot the area:\n",
        "area.plot(figsize=(16,8))\n",
        "plt.ticklabel_format(axis=\"y\", style=\"plain\",scilimits=(0,0),useOffset=False)\n"
      ],
      "execution_count": null,
      "outputs": []
    },
    {
      "cell_type": "markdown",
      "metadata": {
        "id": "0eNj-LMCPZCQ"
      },
      "source": [
        "### Building footprints\n",
        "\n",
        "It is also possible to retrieve other types of OSM data features with OSMnx such as buildings or points of interest (POIs). Let's download the buildings with `OSMnx` [geometries_from_place()](https://osmnx.readthedocs.io/en/stable/osmnx.html?highlight=geometries_from_place#osmnx.geometries.geometries_from_place) -function and plot them on top of our street network in Kamppi. \n",
        "\n",
        "*Note: in OSMnx versions < 0.9 we used the `buildings_from_place` method to retrieve building footprints.*"
      ]
    },
    {
      "cell_type": "markdown",
      "metadata": {
        "id": "urn8aObWPZCR"
      },
      "source": [
        "When fetching spesific types of geometries from OpenStreetMap using OSMnx `geometries_from_place` we also need to specify the correct tags. For getting [all types of buildings](https://wiki.openstreetmap.org/wiki/Buildings), we can use the tag `building=yes`."
      ]
    },
    {
      "cell_type": "code",
      "metadata": {
        "id": "3SAon9pFPZCR"
      },
      "source": [
        "# List key-value pairs for tags\n",
        "tags = {'building': True}\n"
      ],
      "execution_count": 77,
      "outputs": []
    },
    {
      "cell_type": "code",
      "metadata": {
        "id": "gckGmVrlPZCR"
      },
      "source": [
        "# get buildings geometries \n",
        "buildings = ox.geometries_from_place(place_name, tags)\n"
      ],
      "execution_count": 78,
      "outputs": []
    },
    {
      "cell_type": "markdown",
      "metadata": {
        "id": "hYrxkm3GPZCS"
      },
      "source": [
        "Let's check how many building footprints we received:"
      ]
    },
    {
      "cell_type": "code",
      "metadata": {
        "id": "Vz70D1fTPZCS"
      },
      "source": [
        "len(buildings)\n"
      ],
      "execution_count": null,
      "outputs": []
    },
    {
      "cell_type": "markdown",
      "metadata": {
        "id": "tbremkqsPZCS"
      },
      "source": [
        "Let's also have a look at the data:"
      ]
    },
    {
      "cell_type": "code",
      "metadata": {
        "id": "YytKeUUUPZCS"
      },
      "source": [
        "buildings.head()\n"
      ],
      "execution_count": null,
      "outputs": []
    },
    {
      "cell_type": "markdown",
      "metadata": {
        "id": "KdnBsCOUPZCT"
      },
      "source": [
        "As you can see, there are several columns in the buildings-layer. Each column contains information about a spesific tag that OpenStreetMap contributors have added. Each tag consists of a key (the column name), and several potential values (for example `building=yes` or `building=school`). Read more about tags and tagging practices in the [OpenStreetMap wiki](https://wiki.openstreetmap.org/wiki/Tags). "
      ]
    },
    {
      "cell_type": "code",
      "metadata": {
        "id": "ZdC8nCjnPZCT"
      },
      "source": [
        "buildings.columns\n"
      ],
      "execution_count": null,
      "outputs": []
    },
    {
      "cell_type": "markdown",
      "metadata": {
        "id": "XB17fU_8PZCT"
      },
      "source": [
        "### Points-of-interest\n",
        "\n",
        "It is also possible to retrieve other types of geometries from OSM using the `geometries_from_place` by passing different tags. Point-of-interest (POI) is a generic concept that describes point locations that represent places of interest. \n",
        "\n",
        "In OpenStreetMap, many POIs are described using the [amenity-tags](https://wiki.openstreetmap.org/wiki/Key:amenityhttps://wiki.openstreetmap.org/wiki/Key:amenity). \n",
        "We can, for excample, retrieve all restaurat locations by referring to the tag `amenity=restaurant`. See all available amenity categories from [OSM wiki](https://wiki.openstreetmap.org/wiki/Key:amenity). \n",
        "\n",
        "*Note: We used the `pois_from_place()` method to retrieve POIs in older versions of OSMnx.*\n",
        "\n",
        "Let's retrieve restaurants that are located in our area of interest:"
      ]
    },
    {
      "cell_type": "code",
      "metadata": {
        "id": "Uz0J_0f1PZCU"
      },
      "source": [
        "# List key-value pairs for tags\n",
        "tags = {'amenity': 'restaurant'}\n"
      ],
      "execution_count": 84,
      "outputs": []
    },
    {
      "cell_type": "code",
      "metadata": {
        "id": "WcN9CDVPPZCU"
      },
      "source": [
        "# Retrieve restaurants\n",
        "restaurants = ox.geometries_from_place(place_name, tags)\n",
        "\n",
        "# How many restaurants do we have?\n",
        "len(restaurants)"
      ],
      "execution_count": null,
      "outputs": []
    },
    {
      "cell_type": "markdown",
      "metadata": {
        "id": "sBus0tjbPZCV"
      },
      "source": [
        "As we can see, there are quite many restaurants in the area.\n",
        "\n",
        "Let's explore what kind of attributes we have in our restaurants GeoDataFrame:"
      ]
    },
    {
      "cell_type": "code",
      "metadata": {
        "id": "Sndbn0qPPZCV"
      },
      "source": [
        "restaurants.columns.values\n"
      ],
      "execution_count": null,
      "outputs": []
    },
    {
      "cell_type": "markdown",
      "metadata": {
        "id": "3pk4hsotPZCW"
      },
      "source": [
        "As you can see, there is quite a lot of (potential) information related to the amenities. Let's subset the columns and inspect the data further. Useful columns include at least `name`, `address information` and `opening_hours` information:"
      ]
    },
    {
      "cell_type": "code",
      "metadata": {
        "id": "2nuUwH5jPZCW"
      },
      "source": [
        "# Select some useful cols and print\n",
        "cols = ['name', 'opening_hours', 'addr:city', 'addr:country', \n",
        "        'addr:housenumber', 'addr:postcode', 'addr:street']\n",
        "\n",
        "# Print only selected cols\n",
        "restaurants[cols].head(10)"
      ],
      "execution_count": null,
      "outputs": []
    },
    {
      "cell_type": "markdown",
      "metadata": {
        "id": "t86nU1HdPZCX"
      },
      "source": [
        "As we can see, there is a lot of useful information about restaurants that can be retrieved easily with OSMnx. Also, if some of the information need updating, you can go over to www.openstreetmap.org and edit the source data! :)"
      ]
    },
    {
      "cell_type": "markdown",
      "metadata": {
        "id": "Kih5wm6-PZCX"
      },
      "source": [
        "### Plotting the data\n",
        "\n",
        "Let's create a map out of the streets, buildings, restaurants, and the area Polygon but let's exclude the nodes (to keep the figure clearer)."
      ]
    },
    {
      "cell_type": "code",
      "metadata": {
        "id": "gkCe46MnPZCY"
      },
      "source": [
        "fig, ax = plt.subplots(figsize=(12,8))\n",
        "\n",
        "# Plot the footprint\n",
        "area.plot(ax=ax, facecolor='black')\n",
        "\n",
        "# Plot street edges\n",
        "edges.plot(ax=ax, linewidth=1, edgecolor='dimgray')\n",
        "\n",
        "# Plot buildings\n",
        "buildings.plot(ax=ax, facecolor='silver', alpha=0.7)\n",
        "\n",
        "# Plot restaurants\n",
        "restaurants.plot(ax=ax, color='yellow', alpha=0.7, markersize=10)\n",
        "plt.tight_layout()"
      ],
      "execution_count": null,
      "outputs": []
    },
    {
      "cell_type": "markdown",
      "metadata": {
        "id": "SJSzoNz5PZCY"
      },
      "source": [
        "Cool! Now we have a map where we have plotted the restaurants, buildings, streets and the boundaries of the selected region of 'Kamppi' in Helsinki. And all of this required only a few lines of code. Pretty neat! \n"
      ]
    },
    {
      "cell_type": "markdown",
      "metadata": {
        "id": "mB3erh3zPZCa"
      },
      "source": [
        "### Extra: Park polygons\n",
        "Notice that we can retrieve all kinds of different features from OpenStreetMap using the [geometries_from_place()](https://osmnx.readthedocs.io/en/stable/osmnx.html?highlight=geometries_from_place#osmnx.geometries.geometries_from_place) method by passing different OpenStreetMap tags.\n",
        "\n",
        "Let's try to fetch all public parks in the Kamppi area. In OpenStreetMap, parks are often tagged as `leisure=park`. We can also add other green surfaces, such as `landuse=grass`. see OpenStreetMap, and OSM wiki for more details.\n",
        "\n",
        "- We need to start by fetching all footprints from the tag `leisure`:"
      ]
    },
    {
      "cell_type": "code",
      "metadata": {
        "id": "QLWpGR3ZPZCb"
      },
      "source": [
        "# List key-value pairs for tags\n",
        "tags = {'leisure': 'park', 'landuse': 'grass'}"
      ],
      "execution_count": 98,
      "outputs": []
    },
    {
      "cell_type": "code",
      "metadata": {
        "id": "_EyjwV99PZCb"
      },
      "source": [
        "# Get the data\n",
        "parks = ox.geometries_from_place(place_name, tags)\n",
        "\n",
        "# Check the result\n",
        "print(\"Retrieved\", len(parks), \"objects\")"
      ],
      "execution_count": null,
      "outputs": []
    },
    {
      "cell_type": "markdown",
      "metadata": {
        "id": "EEA6XNOEPZCb"
      },
      "source": [
        "let's check the first rows:"
      ]
    },
    {
      "cell_type": "code",
      "metadata": {
        "id": "G8p5YDWVPZCc"
      },
      "source": [
        "parks.head(3)"
      ],
      "execution_count": null,
      "outputs": []
    },
    {
      "cell_type": "markdown",
      "metadata": {
        "id": "dG00BofJPZCc"
      },
      "source": [
        "Check all column headers:"
      ]
    },
    {
      "cell_type": "code",
      "metadata": {
        "id": "tU-6mHvHPZCc"
      },
      "source": [
        "parks.columns.values"
      ],
      "execution_count": null,
      "outputs": []
    },
    {
      "cell_type": "markdown",
      "metadata": {
        "id": "xipitEYyPZCd"
      },
      "source": [
        "plot the parks:"
      ]
    },
    {
      "cell_type": "code",
      "metadata": {
        "id": "h0_k3h1DPZCd"
      },
      "source": [
        "parks.plot(color=\"green\")"
      ],
      "execution_count": null,
      "outputs": []
    },
    {
      "cell_type": "markdown",
      "metadata": {
        "id": "COVPnKNzPZCd"
      },
      "source": [
        "Finally, we can add the park polygons to our map:"
      ]
    },
    {
      "cell_type": "code",
      "metadata": {
        "id": "9NMUdRfsPZCe"
      },
      "source": [
        "fig, ax = plt.subplots(figsize=(12,8))\n",
        "\n",
        "# Plot the footprint\n",
        "area.plot(ax=ax, facecolor='black')\n",
        "\n",
        "# Plot the parks\n",
        "parks.plot(ax=ax, facecolor=\"green\")\n",
        "\n",
        "# Plot street edges\n",
        "edges.plot(ax=ax, linewidth=1, edgecolor='dimgray')\n",
        "\n",
        "# Plot buildings\n",
        "buildings.plot(ax=ax, facecolor='silver', alpha=0.7)\n",
        "\n",
        "# Plot restaurants\n",
        "restaurants.plot(ax=ax, color='yellow', alpha=0.7, markersize=10)\n",
        "plt.tight_layout()"
      ],
      "execution_count": null,
      "outputs": []
    },
    {
      "cell_type": "code",
      "metadata": {
        "id": "i1e0UvKM0ydt"
      },
      "source": [
        ""
      ],
      "execution_count": null,
      "outputs": []
    },
    {
      "cell_type": "markdown",
      "metadata": {
        "id": "pDBeDqn4PZCY"
      },
      "source": [
        "<div class=\"alert alert-info\">\n",
        "\n",
        "**Check your understading**\n",
        "\n",
        "Retrieve OpenStreetMap data from some other area! Download these elements using OSMnx functions from your area of interest:\n",
        "    \n",
        "- Extent of the area using `geocode_to_gdf()`\n",
        "- Street network using `graph_from_place()`, and convert to gdf using `graph_to_gdfs()`\n",
        "- Building footprints (and other geometries) using `geometries_from_place()` and appropriate tags.\n",
        "    \n",
        "*Note, the larger the area you choose, the longer it takes to retrieve data from the API! Use parameter `network_type=drive` to limit the graph query to filter out un-driveable roads.*\n",
        "\n",
        "</div>"
      ]
    },
    {
      "cell_type": "code",
      "metadata": {
        "id": "aoj4Ki9APZCZ"
      },
      "source": [
        "# Specify the name that is used to seach for the data. Check that the place name is valid from https://nominatim.openstreetmap.org/ui/search.html\n",
        "my_place = \"Meşrutiyet Mahallesi, Çankaya, Ankara\""
      ],
      "execution_count": 121,
      "outputs": []
    },
    {
      "cell_type": "code",
      "metadata": {
        "id": "DJ9fvZSBPZCZ"
      },
      "source": [
        "# Get street network\n",
        "graph = ox.graph_from_place(my_place)"
      ],
      "execution_count": 122,
      "outputs": []
    },
    {
      "cell_type": "code",
      "metadata": {
        "id": "CvJTJwUHznId"
      },
      "source": [
        "fig, ax = ox.plot_graph(graph)\n"
      ],
      "execution_count": null,
      "outputs": []
    },
    {
      "cell_type": "code",
      "metadata": {
        "id": "beq-AmAdznQX"
      },
      "source": [
        "nodes, edges = ox.graph_to_gdfs(graph)\n"
      ],
      "execution_count": 124,
      "outputs": []
    },
    {
      "cell_type": "code",
      "metadata": {
        "id": "Y_eFJSxsPZCa"
      },
      "source": [
        "# Get building footprints\n",
        "# List key-value pairs for tags\n",
        "tags = {'building': True}\n",
        "buildings = ox.geometries_from_place(my_place, tags)\n",
        "len(buildings)\n"
      ],
      "execution_count": null,
      "outputs": []
    },
    {
      "cell_type": "code",
      "metadata": {
        "id": "Pkz_1WDp1Flo"
      },
      "source": [
        "area = ox.geocode_to_gdf(my_place)\n"
      ],
      "execution_count": 126,
      "outputs": []
    },
    {
      "cell_type": "code",
      "metadata": {
        "id": "IiRW6MsY1Fol"
      },
      "source": [
        "area.plot(figsize=(16,8))\n",
        "plt.ticklabel_format(axis=\"y\", style=\"plain\",scilimits=(0,0),useOffset=False)\n",
        "plt.ticklabel_format(axis=\"x\", style=\"plain\",scilimits=(0,0),useOffset=False)\n"
      ],
      "execution_count": null,
      "outputs": []
    },
    {
      "cell_type": "code",
      "metadata": {
        "id": "iU-jMDXu1Frs"
      },
      "source": [
        "# List key-value pairs for tags\n",
        "tags = {'amenity': 'restaurant'}"
      ],
      "execution_count": 131,
      "outputs": []
    },
    {
      "cell_type": "code",
      "metadata": {
        "id": "V3POglr21VAZ"
      },
      "source": [
        "# Retrieve restaurants\n",
        "restaurants = ox.geometries_from_place(my_place, tags)\n",
        "\n",
        "# How many restaurants do we have?\n",
        "len(restaurants)"
      ],
      "execution_count": null,
      "outputs": []
    },
    {
      "cell_type": "code",
      "metadata": {
        "id": "vW2FQGL9PZCa"
      },
      "source": [
        "fig, ax = plt.subplots(figsize=(12,8))\n",
        "\n",
        "# Plot the footprint\n",
        "area.plot(ax=ax, facecolor='black')\n",
        "\n",
        "# Plot street edges\n",
        "edges.plot(ax=ax, linewidth=1, edgecolor='dimgray')\n",
        "\n",
        "# Plot buildings\n",
        "buildings.plot(ax=ax, facecolor='silver', alpha=0.7)\n",
        "\n",
        "# Plot restaurants\n",
        "restaurants.plot(ax=ax, color='yellow', alpha=0.7, markersize=10)\n",
        "\n",
        "plt.ticklabel_format(axis=\"y\", style=\"plain\",scilimits=(0,0),useOffset=False)\n",
        "plt.ticklabel_format(axis=\"x\", style=\"plain\",scilimits=(0,0),useOffset=False)\n",
        "plt.tight_layout()"
      ],
      "execution_count": null,
      "outputs": []
    }
  ]
}
