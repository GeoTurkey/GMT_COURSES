{
  "cells": [
    {
      "cell_type": "markdown",
      "metadata": {
        "id": "view-in-github",
        "colab_type": "text"
      },
      "source": [
        "<a href=\"https://colab.research.google.com/github/GeoTurkey/GMT_COURSES/blob/main/Retrieve_Osm_Data.ipynb\" target=\"_parent\"><img src=\"https://colab.research.google.com/assets/colab-badge.svg\" alt=\"Open In Colab\"/></a>"
      ]
    },
    {
      "cell_type": "markdown",
      "metadata": {
        "id": "btfZrrBh4LBJ"
      },
      "source": [
        "# Retrieving OpenStreetMap data\n",
        "\n",
        "![](img/OSM_logo.png)\n",
        "\n",
        "## What is OpenStreetMap?\n",
        "\n",
        "OpenStreetMap (OSM) is a global collaborative (crowd-sourced) dataset and project that aims at creating a free editable map of the world containing a lot of information about our environment.\n",
        "It contains data for example about streets, buildings, different services, and landuse to mention a few. You can view the map at www.openstreetmap.org. You can also sign up as a contributor if you want to edit the map. More details about OpenStreetMap and its contents are available in the [OpenStreetMap Wiki](https://wiki.openstreetmap.org/wiki/Main_Page).\n",
        "\n",
        "OSM has a large userbase with more than 4 million users and over a million contributers that update actively the OSM database with 3 million changesets per day. In total OSM contains 5 billion nodes and counting! ([stats from November 2019](http://wiki.openstreetmap.org/wiki/Stats)).\n",
        "\n",
        "OpenStreetMap is used not only for integrating the **OSM maps** as background maps to visualizations or online maps, but also for many other purposes such as **routing**, **geocoding**, **education**, and **research**. OSM is also widely used for humanitarian response e.g. in crisis areas (e.g. after natural disasters) and for fostering economic development. Read more about humanitarian projects that use OSM data from the [Humanitarian OpenStreetMap Team (HOTOSM) website](https://www.hotosm.org).\n"
      ]
    },
    {
      "cell_type": "markdown",
      "metadata": {
        "id": "zF_o0vmu4LBK"
      },
      "source": [
        "## Main tools in this lesson\n",
        "\n",
        "### OSMnx\n",
        "\n",
        "This week we will explore a Python module called [OSMnx](https://github.com/gboeing/osmnx)\n",
        "that can be used to retrieve, construct, analyze, and visualize street networks from OpenStreetMap, and also retrieve data about Points of Interest such as restaurants, schools, and lots of different kind of services. It is also easy to conduct network routing based on walking, cycling or driving by combining OSMnx functionalities with a package called [NetworkX](https://networkx.github.io/documentation/stable/).\n",
        "\n",
        "To get an overview of the capabilities of the package, see an introductory video given by the lead developer of the package, Prof. Geoff Boeing: [\"Meet the developer: Introduction to OSMnx package by Geoff Boeing\"](https://www.youtube.com/watch?v=Q0uxu25ddc4&list=PLs9D4XVqc6dCAhhvhZB7aHGD8fCeCC_6N).\n",
        "\n",
        "There is also a scientific article available describing the package:\n",
        "\n",
        "> Boeing, G. 2017. [\"OSMnx: New Methods for Acquiring, Constructing, Analyzing, and Visualizing Complex Street Networks.\"](https://www.researchgate.net/publication/309738462_OSMnx_New_Methods_for_Acquiring_Constructing_Analyzing_and_Visualizing_Complex_Street_Networks) Computers, Environment and Urban Systems 65, 126-139. doi:10.1016/j.compenvurbsys.2017.05.004\n",
        "\n",
        "\n",
        "[This tutorial](https://github.com/gboeing/osmnx-examples/blob/master/notebooks/01-overview-osmnx.ipynb) provides a practical overview of OSMnx functionalities, and has also inspired this AutoGIS lesson.\n",
        "\n",
        "*Note: major changes were implemented in OSMnx versions > 0.9. This lesson has been updated accordingly.*\n",
        "\n",
        "</div>"
      ]
    },
    {
      "cell_type": "markdown",
      "metadata": {
        "id": "SbkhtwTt4LBL"
      },
      "source": [
        "### NetworkX\n",
        "\n",
        "We will also use [NetworkX](https://networkx.github.io/documentation/stable/) to for manipulating and analyzing the street network data retrieved from OpenSTreetMap. NetworkX is a Python package that can be used to create, manipulate, and study the structure, dynamics, and functions of complex networks. Networkx module contains algorithms that can be used to calculate [shortest paths](https://networkx.github.io/documentation/networkx-1.10/reference/algorithms.shortest_paths.html)\n",
        "along road networks using e.g. [Dijkstra's](https://en.wikipedia.org/wiki/Dijkstra%27s_algorithm) or [A\\* algorithm](https://en.wikipedia.org/wiki/A*_search_algorithm)."
      ]
    },
    {
      "cell_type": "markdown",
      "metadata": {
        "id": "dN0FWyZ44LBL"
      },
      "source": [
        "## Download and visualize OpenStreetMap data with OSMnx\n",
        "\n",
        "One the most useful features that OSMnx provides is an easy-to-use way of retrieving [OpenStreetMap](http://www.openstreetmap.org) data using [OverPass API](http://wiki.openstreetmap.org/wiki/Overpass_API) in the background. In this tutorial, we will learn how to download and visualize the street network and additional data from OpenStreetMap covering a specified area of interest.\n",
        "\n",
        "### Street network\n",
        "\n",
        "The [osmnx.graph -module](https://osmnx.readthedocs.io/en/stable/osmnx.html?highlight=graph_from#module-osmnx.graph) enables downloading and constructing a routable road network graph based on user-defined area of interest. The user can specify the area of interest, for example using a placename, a bounding box or a polygon. Here, we will use a placename for fetching data from the Kamppi area in Helsinki, Finland. In the place name query, OSMnx uses the Nominatim Geocoding API."
      ]
    },
    {
      "cell_type": "code",
      "execution_count": null,
      "metadata": {
        "id": "n2-C1bD74LBL"
      },
      "outputs": [],
      "source": [
        "! pip install osmnx"
      ]
    },
    {
      "cell_type": "code",
      "execution_count": null,
      "metadata": {
        "id": "DQBmN4I24LBM"
      },
      "outputs": [],
      "source": [
        "import osmnx as ox\n",
        "import matplotlib.pyplot as plt\n",
        "import warnings\n",
        "warnings.filterwarnings('ignore')"
      ]
    },
    {
      "cell_type": "markdown",
      "metadata": {
        "id": "E6BVfJHc4LBN"
      },
      "source": [
        "Let's start by specifying ``Yukarı Bahçelievler Mahallesi, Çankaya, Ankara`` as the place from where the data should be downloaded. The place name should be *geocodable* which means that the place name should exist in the OpenStreetMap database (you can do a test search at https://www.openstreetmap.org/ or at https://nominatim.openstreetmap.org/ to verify that the place name is valid).  "
      ]
    },
    {
      "cell_type": "code",
      "execution_count": null,
      "metadata": {
        "id": "G7tW-RJc4LBN"
      },
      "outputs": [],
      "source": [
        "# Specify the name that is used to seach for the data\n",
        "place_name = \"Yukarı Bahçelievler Mahallesi, Ankara, Çankaya, Ankara, İç Anadolu Bölgesi, 06490, Türkiye\""
      ]
    },
    {
      "cell_type": "markdown",
      "metadata": {
        "id": "O3UmuVJ04LBN"
      },
      "source": [
        "Next, we will read in the OSM street network using OSMnx using the [graph_from_place](https://osmnx.readthedocs.io/en/stable/osmnx.html?highlight=graph%20from#osmnx.graph.graph_from_place) function:"
      ]
    },
    {
      "cell_type": "code",
      "execution_count": null,
      "metadata": {
        "id": "7NMPfnq04LBN"
      },
      "outputs": [],
      "source": [
        "# Fetch OSM street network from the location\n",
        "graph = ox.graph_from_place(place_name)"
      ]
    },
    {
      "cell_type": "markdown",
      "metadata": {
        "id": "UgsFnAhu4LBO"
      },
      "source": [
        "Check the data type of the graph:"
      ]
    },
    {
      "cell_type": "code",
      "execution_count": null,
      "metadata": {
        "id": "vqxJmEy94LBO"
      },
      "outputs": [],
      "source": [
        "type(graph)"
      ]
    },
    {
      "cell_type": "markdown",
      "metadata": {
        "id": "s7eOxsM14LBO"
      },
      "source": [
        "What we have here is a networkx [MultiDiGraph](https://networkx.org/documentation/networkx-1.10/reference/classes.multidigraph.html) object.\n",
        "\n",
        "Let's have a closer look a the street nework. OSMnx has its own function [plot_graph()](https://osmnx.readthedocs.io/en/stable/osmnx.html?highlight=plot_graph#osmnx.plot.plot_graph) for visualizing graph objects. The function utilizes Matplotlib for visualizing the data,\n",
        "hence as a result it returns a matplotlib figure and axis objects:\n"
      ]
    },
    {
      "cell_type": "code",
      "execution_count": null,
      "metadata": {
        "id": "pYLXBbVf4LBO"
      },
      "outputs": [],
      "source": [
        "# Plot the streets\n",
        "fig, ax = ox.plot_graph(graph)"
      ]
    },
    {
      "cell_type": "markdown",
      "metadata": {
        "id": "Dscf5A_z4LBO"
      },
      "source": [
        "Great! Now we can see that our graph contains nodes (the points) and edges (the lines) that connects those nodes to each other."
      ]
    },
    {
      "cell_type": "markdown",
      "metadata": {
        "id": "sMXhonpM4LBO"
      },
      "source": [
        "\n",
        "### Graph to GeoDataFrame\n",
        "\n",
        "We can now plot all these different OSM layers by using the familiar `plot()` function of geopandas. As you might remember, the street network data is not a GeoDataFrame, but a graph object. Luckily, OSMnx provides a convenient function `graph_to_gdfs()` that can convert the graph into two separate GeoDataFrames where the first one contains the information about the nodes and the second one about the edge.\n",
        "\n",
        "Let's extract the nodes and edges from the graph as GeoDataFrames:"
      ]
    },
    {
      "cell_type": "code",
      "execution_count": null,
      "metadata": {
        "id": "_BOqKGHN4LBO"
      },
      "outputs": [],
      "source": [
        "# Retrieve nodes and edges\n",
        "nodes, edges = ox.graph_to_gdfs(graph)"
      ]
    },
    {
      "cell_type": "code",
      "execution_count": null,
      "metadata": {
        "id": "AopGnvF14LBP"
      },
      "outputs": [],
      "source": [
        "nodes.head(30)"
      ]
    },
    {
      "cell_type": "code",
      "execution_count": null,
      "metadata": {
        "id": "pjJf6Ke34LBP"
      },
      "outputs": [],
      "source": [
        "edges.head(10)"
      ]
    },
    {
      "cell_type": "markdown",
      "metadata": {
        "id": "Owiornso4LBP"
      },
      "source": [
        "Nice! Now, as we can see, we have our graph as GeoDataFrames and we can plot them using the same functions and tools as we have used before."
      ]
    },
    {
      "cell_type": "markdown",
      "metadata": {
        "id": "N3cH9T_44LBP"
      },
      "source": [
        "### Place polygon\n",
        "\n",
        "Let's also plot the Polygon that represents our area of interest. We can retrieve the Polygon geometry using the [geocode_to_gdf()](https://osmnx.readthedocs.io/en/stable/osmnx.html?highlight=geocode_to_gdf(#osmnx.geocoder.geocode_to_gdf) -function."
      ]
    },
    {
      "cell_type": "code",
      "execution_count": null,
      "metadata": {
        "id": "2H11v5_J4LBP"
      },
      "outputs": [],
      "source": [
        "# Get place boundary related to the place name as a geodataframe\n",
        "area = ox.geocode_to_gdf(place_name)"
      ]
    },
    {
      "cell_type": "markdown",
      "metadata": {
        "id": "6_UYpUxb4LBP"
      },
      "source": [
        "As the name of the function already tells us, it returns a GeoDataFrame object based on the specified place name query.\n",
        "Let's still verify the data type:"
      ]
    },
    {
      "cell_type": "code",
      "execution_count": null,
      "metadata": {
        "id": "9HHV6IbI4LBP"
      },
      "outputs": [],
      "source": [
        "# Check the data type\n",
        "type(area)"
      ]
    },
    {
      "cell_type": "markdown",
      "metadata": {
        "id": "_aHBBddN4LBP"
      },
      "source": [
        "Let's also have a look at the data:"
      ]
    },
    {
      "cell_type": "code",
      "execution_count": null,
      "metadata": {
        "id": "lfT0Dbi04LBP"
      },
      "outputs": [],
      "source": [
        "# Check data values\n",
        "area"
      ]
    },
    {
      "cell_type": "code",
      "execution_count": null,
      "metadata": {
        "id": "suY7RoQa4LBQ"
      },
      "outputs": [],
      "source": [
        "# Plot the area:\n",
        "area.plot(figsize=(16,12))"
      ]
    },
    {
      "cell_type": "markdown",
      "metadata": {
        "id": "F_4lmvO24LBQ"
      },
      "source": [
        "### Building footprints\n",
        "\n",
        "It is also possible to retrieve other types of OSM data features with OSMnx such as buildings or points of interest (POIs). Let's download the buildings with `OSMnx` [geometries_from_place()](https://osmnx.readthedocs.io/en/stable/osmnx.html?highlight=geometries_from_place#osmnx.geometries.geometries_from_place) -function and plot them on top of our street network in Yukarı Bahcelievler."
      ]
    },
    {
      "cell_type": "markdown",
      "metadata": {
        "id": "oCrO1i554LBQ"
      },
      "source": [
        "When fetching spesific types of geometries from OpenStreetMap using OSMnx `geometries_from_place` we also need to specify the correct tags. For getting [all types of buildings](https://wiki.openstreetmap.org/wiki/Buildings), we can use the tag `building=True`."
      ]
    },
    {
      "cell_type": "code",
      "execution_count": null,
      "metadata": {
        "id": "8zjueUlr4LBQ"
      },
      "outputs": [],
      "source": [
        "# List key-value pairs for tags\n",
        "tags = {'building': True}"
      ]
    },
    {
      "cell_type": "code",
      "execution_count": null,
      "metadata": {
        "id": "CwMj2cf24LBQ"
      },
      "outputs": [],
      "source": [
        "buildings = ox.geometries_from_place(place_name, tags)"
      ]
    },
    {
      "cell_type": "markdown",
      "metadata": {
        "id": "9EJ7SIh94LBQ"
      },
      "source": [
        "Let's check how many building footprints we received:"
      ]
    },
    {
      "cell_type": "code",
      "execution_count": null,
      "metadata": {
        "id": "vwB9ViNX4LBQ"
      },
      "outputs": [],
      "source": [
        "len(buildings)"
      ]
    },
    {
      "cell_type": "markdown",
      "metadata": {
        "id": "MiyS_CUu4LBQ"
      },
      "source": [
        "Let's also have a look at the data:"
      ]
    },
    {
      "cell_type": "code",
      "execution_count": null,
      "metadata": {
        "id": "jPK3PB_B4LBQ"
      },
      "outputs": [],
      "source": [
        "buildings.head()"
      ]
    },
    {
      "cell_type": "markdown",
      "metadata": {
        "id": "DvDpTOtG4LBR"
      },
      "source": [
        "As you can see, there are several columns in the buildings-layer. Each column contains information about a spesific tag that OpenStreetMap contributors have added. Each tag consists of a key (the column name), and several potential values (for example `building=yes` or `building=school`). Read more about tags and tagging practices in the [OpenStreetMap wiki](https://wiki.openstreetmap.org/wiki/Tags)."
      ]
    },
    {
      "cell_type": "code",
      "execution_count": null,
      "metadata": {
        "id": "ra8DP7JP4LBR"
      },
      "outputs": [],
      "source": [
        "buildings.columns"
      ]
    },
    {
      "cell_type": "markdown",
      "metadata": {
        "id": "UgI_HqYj4LBR"
      },
      "source": [
        "### Points-of-interest\n",
        "\n",
        "It is also possible to retrieve other types of geometries from OSM using the `geometries_from_place` by passing different tags. Point-of-interest (POI) is a generic concept that describes point locations that represent places of interest.\n",
        "\n",
        "In OpenStreetMap, many POIs are described using the [amenity-tags](https://wiki.openstreetmap.org/wiki/Key:amenity).\n",
        "We can, for excample, retrieve all restaurat locations by referring to the tag `amenity=restaurant.\n",
        "\n",
        "*Note: We used the `pois_from_place()` method to retrieve POIs in older versions of OSMnx.*\n",
        "\n",
        "Let's retrieve restaurants that are located in our area of interest:"
      ]
    },
    {
      "cell_type": "code",
      "execution_count": null,
      "metadata": {
        "id": "ZF6DoPFX4LBR"
      },
      "outputs": [],
      "source": [
        "# List key-value pairs for tags\n",
        "tags = {'amenity': 'pharmacy'}"
      ]
    },
    {
      "cell_type": "code",
      "execution_count": null,
      "metadata": {
        "id": "1rVxmiI54LBR"
      },
      "outputs": [],
      "source": [
        "# Retrieve restaurants\n",
        "pharmacy = ox.geometries_from_place(place_name, tags)\n",
        "\n",
        "# How many restaurants do we have?\n",
        "len(pharmacy)"
      ]
    },
    {
      "cell_type": "code",
      "execution_count": null,
      "metadata": {
        "id": "CUCShLPL4LBR"
      },
      "outputs": [],
      "source": [
        "pharmacy"
      ]
    },
    {
      "cell_type": "markdown",
      "metadata": {
        "id": "cD0z9Xo04LBR"
      },
      "source": [
        "As we can see, there are five restaurants in the area.\n",
        "\n",
        "Let's explore what kind of attributes we have in our restaurants GeoDataFrame:"
      ]
    },
    {
      "cell_type": "code",
      "execution_count": null,
      "metadata": {
        "id": "IfFZLxiL4LBS"
      },
      "outputs": [],
      "source": [
        "# Available columns\n",
        "pharmacy.columns.values"
      ]
    },
    {
      "cell_type": "markdown",
      "metadata": {
        "id": "BkmX4XCB4LBS"
      },
      "source": [
        "As we can see, there is a lot of useful information about restaurants that can be retrieved easily with OSMnx. Also, if some of the information need updating, you can go over to www.openstreetmap.org and edit the source data! :)"
      ]
    },
    {
      "cell_type": "markdown",
      "metadata": {
        "id": "OIVQOp9R4LBS"
      },
      "source": [
        "### Plotting the data\n",
        "\n",
        "Let's create a map out of the streets, buildings, restaurants, and the area Polygon but let's exclude the nodes (to keep the figure clearer)."
      ]
    },
    {
      "cell_type": "code",
      "execution_count": null,
      "metadata": {
        "id": "jRBEP6l74LBS"
      },
      "outputs": [],
      "source": [
        "fig, ax = plt.subplots(figsize=(12,8))\n",
        "\n",
        "# Plot the footprint\n",
        "area.plot(ax=ax, facecolor='white')\n",
        "\n",
        "# Plot street edges\n",
        "edges.plot(ax=ax, linewidth=1, edgecolor='dimgray')\n",
        "\n",
        "# Plot buildings\n",
        "buildings.plot(ax=ax, facecolor='silver', alpha=0.7)\n",
        "\n",
        "# Plot restaurants\n",
        "pharmacy.plot(ax=ax, color='red', alpha=0.7, markersize=50)\n",
        "plt.tight_layout()"
      ]
    },
    {
      "cell_type": "markdown",
      "metadata": {
        "id": "haMu_Oaf4LBS"
      },
      "source": [
        "Cool! Now we have a map where we have plotted the restaurants, buildings, streets and the boundaries of the selected region of 'Kamppi' in Helsinki. And all of this required only a few lines of code. Pretty neat!\n"
      ]
    },
    {
      "cell_type": "markdown",
      "metadata": {
        "id": "Jq-3w2kh4LBS"
      },
      "source": [
        "### Extra: Park polygons\n",
        "Notice that we can retrieve all kinds of different features from OpenStreetMap using the [geometries_from_place()](https://osmnx.readthedocs.io/en/stable/osmnx.html?highlight=geometries_from_place#osmnx.geometries.geometries_from_place) method by passing different OpenStreetMap tags.\n",
        "\n",
        "Let's try to fetch all public parks in the Bahceli area. In OpenStreetMap, parks are often tagged as `leisure=park`. We can also add other green surfaces, such as `landuse=grass`. see OpenStreetMap, and OSM wiki for more details.\n",
        "\n",
        "- We need to start by fetching all footprints from the tag `leisure`:"
      ]
    },
    {
      "cell_type": "code",
      "execution_count": null,
      "metadata": {
        "id": "QZ_VvbM44LBS"
      },
      "outputs": [],
      "source": [
        "# List key-value pairs for tags\n",
        "tags = {'leisure': 'park', 'landuse': 'grass'}"
      ]
    },
    {
      "cell_type": "code",
      "execution_count": null,
      "metadata": {
        "id": "End_TKLG4LBS"
      },
      "outputs": [],
      "source": [
        "# Get the data\n",
        "parks = ox.geometries_from_place(place_name, tags)\n",
        "\n",
        "# Check the result\n",
        "print(\"Retrieved\", len(parks), \"objects\")"
      ]
    },
    {
      "cell_type": "markdown",
      "metadata": {
        "id": "tK583QOV4LBT"
      },
      "source": [
        "let's check the first rows:"
      ]
    },
    {
      "cell_type": "code",
      "execution_count": null,
      "metadata": {
        "id": "DTBcp3w54LBT"
      },
      "outputs": [],
      "source": [
        "parks.head(4)"
      ]
    },
    {
      "cell_type": "markdown",
      "metadata": {
        "id": "j87HhuKu4LBT"
      },
      "source": [
        "Check all column headers:"
      ]
    },
    {
      "cell_type": "code",
      "execution_count": null,
      "metadata": {
        "id": "kij1OOiS4LBT"
      },
      "outputs": [],
      "source": [
        "parks.columns.values"
      ]
    },
    {
      "cell_type": "markdown",
      "metadata": {
        "id": "yVURURSy4LBT"
      },
      "source": [
        "plot the parks:"
      ]
    },
    {
      "cell_type": "code",
      "execution_count": null,
      "metadata": {
        "id": "pmQeEJSZ4LBT"
      },
      "outputs": [],
      "source": [
        "parks.plot(color=\"green\")"
      ]
    },
    {
      "cell_type": "markdown",
      "metadata": {
        "id": "AMVRaKN74LBT"
      },
      "source": [
        "Finally, we can add the park polygons to our map:"
      ]
    },
    {
      "cell_type": "code",
      "execution_count": null,
      "metadata": {
        "id": "y7ZScOrN4LBT"
      },
      "outputs": [],
      "source": [
        "# Create a subplot object for plotting the layers onto a common map\n",
        "fig, ax = plt.subplots(figsize=(12,8))\n",
        "\n",
        "# Plot the footprint\n",
        "area.plot(ax=ax, facecolor='black')\n",
        "\n",
        "# Plot the parks\n",
        "parks.plot(ax=ax, facecolor=\"green\")\n",
        "\n",
        "# Plot street edges\n",
        "edges.plot(ax=ax, linewidth=1, edgecolor='dimgray')\n",
        "\n",
        "# Plot buildings\n",
        "buildings.plot(ax=ax, facecolor='silver', alpha=0.7)\n",
        "\n",
        "# Plot restaurants\n",
        "pharmacy.plot(ax=ax, color='yellow', alpha=0.7, markersize=10)\n",
        "plt.tight_layout()\n",
        "plt.legend()"
      ]
    },
    {
      "cell_type": "markdown",
      "metadata": {
        "id": "-jVnNnBj4LBT"
      },
      "source": [
        "<div class=\"alert alert-info\">\n",
        "\n",
        "**Check your understading**\n",
        "\n",
        "Retrieve OpenStreetMap data from some other area! Download these elements using OSMnx functions from your area of interest:\n",
        "    \n",
        "- Extent of the area using `geocode_to_gdf()`\n",
        "- Street network using `graph_from_place()`, and convert to gdf using `graph_to_gdfs()`\n",
        "- Building footprints (and other geometries) using `geometries_from_place()` and appropriate tags.\n",
        "    \n",
        "*Note, the larger the area you choose, the longer it takes to retrieve data from the API! Use parameter `network_type=drive` to limit the graph query to filter out un-driveable roads.*\n",
        "\n",
        "</div>"
      ]
    },
    {
      "cell_type": "code",
      "execution_count": null,
      "metadata": {
        "id": "MnvBbG7h4LBU"
      },
      "outputs": [],
      "source": [
        "# Specify the name that is used to seach for the data. Check that the place name is valid from https://nominatim.openstreetmap.org/ui/search.html\n",
        "my_place = \"\""
      ]
    },
    {
      "cell_type": "code",
      "execution_count": null,
      "metadata": {
        "id": "9Ti_4oVS4LBU"
      },
      "outputs": [],
      "source": [
        "# Get street network\n"
      ]
    },
    {
      "cell_type": "code",
      "execution_count": null,
      "metadata": {
        "id": "eSPu_Ouc4LBU"
      },
      "outputs": [],
      "source": [
        "# Get building footprints\n"
      ]
    },
    {
      "cell_type": "code",
      "execution_count": null,
      "metadata": {
        "id": "2zWKAe5i4LBU"
      },
      "outputs": [],
      "source": [
        "# Plot the data\n"
      ]
    }
  ],
  "metadata": {
    "kernelspec": {
      "display_name": "Python 3 (ipykernel)",
      "language": "python",
      "name": "python3"
    },
    "language_info": {
      "codemirror_mode": {
        "name": "ipython",
        "version": 3
      },
      "file_extension": ".py",
      "mimetype": "text/x-python",
      "name": "python",
      "nbconvert_exporter": "python",
      "pygments_lexer": "ipython3",
      "version": "3.10.6"
    },
    "colab": {
      "provenance": [],
      "include_colab_link": true
    }
  },
  "nbformat": 4,
  "nbformat_minor": 0
}