{
  "cells": [
    {
      "cell_type": "markdown",
      "metadata": {
        "id": "view-in-github",
        "colab_type": "text"
      },
      "source": [
        "<a href=\"https://colab.research.google.com/github/GeoTurkey/GMT_COURSES/blob/main/network_analysis.ipynb\" target=\"_parent\"><img src=\"https://colab.research.google.com/assets/colab-badge.svg\" alt=\"Open In Colab\"/></a>"
      ]
    },
    {
      "cell_type": "markdown",
      "metadata": {
        "id": "BcfGZ9rvBhhs"
      },
      "source": [
        "# Network analysis in Python\n",
        "\n",
        "Finding a shortest path using a specific street network is a common GIS problem that has many practical\n",
        "applications. For example navigators are one of those \"every-day\" applications where **routing** using specific algorithms is used to find the optimal route between two (or multiple) points.\n",
        "\n",
        "It is also possible to perform network analysis such as tranposrtation routing in Python.\n",
        "[Networkx](https://networkx.github.io/documentation/stable/) is a Python module that provides tools for analyzing networks in various different ways. It also contains algorithms\n",
        "such as [Dijkstra's algorithm](https://networkx.github.io/documentation/networkx-1.10/reference/generated/networkx.algorithms.shortest_paths.weighted.single_source_dijkstra.html#networkx.algorithms.shortest_paths.weighted.single_source_dijkstra) or\n",
        "[A*](https://networkx.github.io/documentation/networkx-1.10/reference/generated/networkx.algorithms.shortest_paths.astar.astar_path.html#networkx.algorithms.shortest_paths.astar.astar_path) algoritm that are commonly used to find shortest paths along transportation network.\n",
        "\n",
        "To be able to conduct network analysis, it is, of course, necessary to have a network that is used for the analyses. The [OSMnx](https://github.com/gboeing/osmnx) package enables us to retrieve routable networks from OpenStreetMap for various transport modes (walking, cycling and driving). OSMnx also combines some functionalities from `networkx` module to make it straightforward to conduct routing analysis based on OpenStreetMap data.\n",
        "\n",
        "Next we will test the routing functionalities of OSMnx by finding a shortest path between two points based on drivable roads. With tiny modifications, it is also possible to repeat the analysis for the walkable street network."
      ]
    },
    {
      "cell_type": "markdown",
      "metadata": {
        "id": "YJN3z0yvBhhz"
      },
      "source": [
        "## Get the network\n",
        "\n",
        "Let's again start by importing the required modules"
      ]
    },
    {
      "cell_type": "code",
      "source": [
        "! pip install contextily"
      ],
      "metadata": {
        "id": "Xmwz2NQV-HTp"
      },
      "execution_count": null,
      "outputs": []
    },
    {
      "cell_type": "code",
      "execution_count": null,
      "metadata": {
        "id": "LlMHve0XBhhz"
      },
      "outputs": [],
      "source": [
        "import osmnx as ox\n",
        "import networkx as nx\n",
        "import geopandas as gpd\n",
        "import matplotlib.pyplot as plt\n",
        "import pandas as pd\n",
        "from pyproj import CRS\n",
        "import contextily as ctx\n",
        "import warnings\n",
        "warnings.filterwarnings('ignore')"
      ]
    },
    {
      "cell_type": "markdown",
      "metadata": {
        "id": "5wbGiayvBhh0"
      },
      "source": [
        "When fetching network data from OpenStreetMap using OSMnx, it is possible to define the type of street network using the `network_type` parameter (see options from the [OSMnx documentation](https://osmnx.readthedocs.io/en/stable/osmnx.html?highlight=graph%20from%20place#osmnx.graph.graph_from_place)).\n",
        "Let's download the OSM data from \"Üniversiteler Mahallesi\" and drivable roads."
      ]
    },
    {
      "cell_type": "code",
      "execution_count": null,
      "metadata": {
        "id": "8tPG3G-vBhh0"
      },
      "outputs": [],
      "source": [
        "place_name = \"Üniversiteler Mahallesi, Çankaya, Ankara\"\n",
        "# Retrieve the network\n",
        "graph = ox.graph_from_place(place_name, network_type='drive')"
      ]
    },
    {
      "cell_type": "code",
      "execution_count": null,
      "metadata": {
        "id": "hotfhU0UBhh0"
      },
      "outputs": [],
      "source": [
        "# plot the graph:\n",
        "fig, ax = ox.plot_graph(graph)"
      ]
    },
    {
      "cell_type": "markdown",
      "metadata": {
        "id": "xKeU_IJ6Bhh1"
      },
      "source": [
        "Pro tip! Sometimes the shortest path might go slightly outside the defined area of interest. To account for this, we can fetch the network for a bit larger area than the district of Universiteler Mahallesi, in case the shortest path is not completely inside its boundaries."
      ]
    },
    {
      "cell_type": "code",
      "execution_count": null,
      "metadata": {
        "id": "nqh7LIiwBhh1"
      },
      "outputs": [],
      "source": [
        "# Get the area of interest polygon\n",
        "place_polygon = ox.geocode_to_gdf(place_name)\n",
        "\n",
        "# Re-project the polygon to a local projected CRS\n",
        "place_polygon = place_polygon.to_crs(epsg=32636)\n",
        "\n",
        "# Buffer a bit\n",
        "place_polygon[\"geometry\"] = place_polygon.buffer(1000)\n",
        "\n",
        "# Re-project the polygon back to WGS84, as required by osmnx\n",
        "place_polygon = place_polygon.to_crs(epsg=4326)\n"
      ]
    },
    {
      "cell_type": "code",
      "execution_count": null,
      "metadata": {
        "id": "JNTp77hABhh1"
      },
      "outputs": [],
      "source": [
        "place_polygon"
      ]
    },
    {
      "cell_type": "code",
      "execution_count": null,
      "metadata": {
        "id": "2h4p1LUuBhh1"
      },
      "outputs": [],
      "source": [
        "# Retrieve the network\n",
        "graph = ox.graph_from_polygon(place_polygon[\"geometry\"].values[0], network_type='drive')"
      ]
    },
    {
      "cell_type": "code",
      "execution_count": null,
      "metadata": {
        "id": "CLz_rJUaBhh1"
      },
      "outputs": [],
      "source": [
        "place_polygon[\"geometry\"].values[0]"
      ]
    },
    {
      "cell_type": "markdown",
      "metadata": {
        "id": "NVPWOOgXBhh1"
      },
      "source": [
        "Plot the graph:"
      ]
    },
    {
      "cell_type": "code",
      "execution_count": null,
      "metadata": {
        "id": "UMvOAeETBhh1"
      },
      "outputs": [],
      "source": [
        "fig, ax = ox.plot_graph(graph)"
      ]
    },
    {
      "cell_type": "markdown",
      "metadata": {
        "id": "p4cj2ra4Bhh2"
      },
      "source": [
        "Okey so now we have streets for the travel mode we specified earlier. Let's have a colser look at the attributes of the street network. Easiest way to do this is to convert the\n",
        "graph (nodes and edges) into GeoDataFrames.\n",
        "\n",
        "Converting graph into a GeoDataFrame can be done with function `graph_to_gdfs()` that we already used in previous tutorial. With parameters `nodes` and `edges`, it is possible to control whether to retrieve both nodes and edges from the graph."
      ]
    },
    {
      "cell_type": "code",
      "execution_count": null,
      "metadata": {
        "id": "eTSwdddpBhh2"
      },
      "outputs": [],
      "source": [
        "# Retrieve only edges from the graph\n",
        "edges = ox.graph_to_gdfs(graph, nodes=False, edges=True)"
      ]
    },
    {
      "cell_type": "code",
      "execution_count": null,
      "metadata": {
        "id": "cimODWNwBhh2"
      },
      "outputs": [],
      "source": [
        "# Check columns\n",
        "edges.columns"
      ]
    },
    {
      "cell_type": "code",
      "execution_count": null,
      "metadata": {
        "id": "2wNHJ76XBhh2"
      },
      "outputs": [],
      "source": [
        "# Check crs\n",
        "edges.crs"
      ]
    },
    {
      "cell_type": "markdown",
      "metadata": {
        "id": "kFQ4uAiLBhh2"
      },
      "source": [
        "Note that the CRS of the GeoDataFrame is be WGS84 (epsg: 4326)."
      ]
    },
    {
      "cell_type": "code",
      "execution_count": null,
      "metadata": {
        "id": "g3q9yxJpBhh2"
      },
      "outputs": [],
      "source": [
        "edges.head()"
      ]
    },
    {
      "cell_type": "markdown",
      "metadata": {
        "id": "3ejGcrWUBhh2"
      },
      "source": [
        "Okey, so we have quite many columns in our GeoDataFrame. Most of the columns are fairly self-explanatory but the following table describes all of them.\n",
        "Most of the attributes come directly from the OpenStreetMap, however, columns `u` and `v` are Networkx specific ids. You can click on the links to get more information about each attribute:\n",
        "\n",
        "\n",
        "| Column                                                     | Description                 | Data type         |\n",
        "|------------------------------------------------------------|-----------------------------|-------------------|\n",
        "| [bridge](http://wiki.openstreetmap.org/wiki/Key:bridge)    | Bridge feature              | boolean           |\n",
        "| geometry                                                   | Geometry of the feature     | Shapely.geometry  |\n",
        "| [highway](http://wiki.openstreetmap.org/wiki/Key:highway)  | Tag for roads (road type)   | str / list        |\n",
        "| [lanes](http://wiki.openstreetmap.org/wiki/Key:lanes)      | Number of lanes             | int (or nan)      |\n",
        "| [lenght](http://wiki.openstreetmap.org/wiki/Key:length)    | Length of feature (meters)  | float             |\n",
        "| [maxspeed](http://wiki.openstreetmap.org/wiki/Key:maxspeed)| maximum legal speed limit   | int /list         |\n",
        "| [name](http://wiki.openstreetmap.org/wiki/Key:name)        | Name of the (street) element| str (or nan)      |\n",
        "| [oneway](http://wiki.openstreetmap.org/wiki/Key:oneway)    | One way road                | boolean           |\n",
        "| [osmid](http://wiki.openstreetmap.org/wiki/Node)           | Unique ids for the element  | list              |\n",
        "| [u](http://ow.ly/bV8n30h7Ufm)                              | The first node of edge      | int               |\n",
        "| [v](http://ow.ly/bV8n30h7Ufm)                              | The last node of edge       | int               |\n"
      ]
    },
    {
      "cell_type": "markdown",
      "metadata": {
        "id": "ccpIiappBhh3"
      },
      "source": [
        "Let's take a look what kind of features we have in the `highway` column:"
      ]
    },
    {
      "cell_type": "code",
      "execution_count": null,
      "metadata": {
        "id": "12sG2UdxBhh3"
      },
      "outputs": [],
      "source": [
        "edges['highway'].value_counts()"
      ]
    },
    {
      "cell_type": "markdown",
      "metadata": {
        "id": "TOdfdWeyBhh3"
      },
      "source": [
        "I now we can confirm that as a result our street network indeed only contains such streets where it is allowed to drive with a car as there are no e.g. cycleways or footways included in the data.\n",
        "\n",
        "As the data is in WGS84 format, we might want to reproject our data into a metric system before proceeding to the shortest path analysis.\n",
        "We can re-project the graph from latitudes and longitudes to an appropriate UTM zone using the [project_graph()](https://osmnx.readthedocs.io/en/stable/osmnx.html#osmnx.projection.project_graph) function from OSMnx."
      ]
    },
    {
      "cell_type": "code",
      "execution_count": null,
      "metadata": {
        "id": "QKQ5LnhFBhh3"
      },
      "outputs": [],
      "source": [
        "# Project the data\n",
        "graph_proj = ox.project_graph(graph)"
      ]
    },
    {
      "cell_type": "code",
      "execution_count": null,
      "metadata": {
        "id": "WY3GtoxxBhh3"
      },
      "outputs": [],
      "source": [
        "# Get Edges and Nodes\n",
        "nodes_proj, edges_proj = ox.graph_to_gdfs(graph_proj, nodes=True, edges=True)"
      ]
    },
    {
      "cell_type": "code",
      "execution_count": null,
      "metadata": {
        "id": "bW12vbysBhh3"
      },
      "outputs": [],
      "source": [
        "print(\"Coordinate system:\", edges_proj.crs)\n",
        "print(\"Coordinate system:\", nodes_proj.crs)"
      ]
    },
    {
      "cell_type": "code",
      "execution_count": null,
      "metadata": {
        "id": "CcmdrLWqBhh3"
      },
      "outputs": [],
      "source": [
        "nodes_proj.head()"
      ]
    },
    {
      "cell_type": "markdown",
      "metadata": {
        "id": "EGs0071NBhh3"
      },
      "source": [
        "Okey, as we can see from the CRS the data is now in [UTM projection](https://en.wikipedia.org/wiki/Universal_Transverse_Mercator_coordinate_system) using zone 36 which is the one used for TURKEY, and indeed the orientation of the map and the geometry values also confirm this.\n"
      ]
    },
    {
      "cell_type": "markdown",
      "metadata": {
        "id": "cIgcYtPjBhh4"
      },
      "source": [
        "Furthermore, we can check the epsg code of this projection using pyproj CRS:"
      ]
    },
    {
      "cell_type": "code",
      "execution_count": null,
      "metadata": {
        "id": "DbRcSCGVBhh4"
      },
      "outputs": [],
      "source": [
        "CRS(edges_proj.crs).to_epsg()"
      ]
    },
    {
      "cell_type": "markdown",
      "metadata": {
        "id": "69Bhjh9cBhh4"
      },
      "source": [
        "Indeed, the projection is now [WGS 84 / UTM zone 36N, EPSG:32636](https://epsg.io/32636)."
      ]
    },
    {
      "cell_type": "markdown",
      "metadata": {
        "id": "VJI2zgRaBhh4"
      },
      "source": [
        "## Shortest path analysis\n",
        "\n",
        "Let's now calculate the shortest path between two points using the [shortest path function in Networkx](https://networkx.github.io/documentation/networkx-1.10/reference/generated/networkx.algorithms.shortest_paths.generic.shortest_path.html#shortest-path)."
      ]
    },
    {
      "cell_type": "markdown",
      "metadata": {
        "id": "fbjVSDQ0Bhh4"
      },
      "source": [
        "#### Origin and destination points\n",
        "\n",
        "First we need to specify the source and target locations for our route. If you are familiar with the Universiteler MAhallesi area, you can specify a custom placename as a source location. Or, you can follow along and choose these points as the origin and destination in the analysis:\n",
        "- [Beytepe Gün Hastanesi](https://nominatim.openstreetmap.org/ui/search.html?q=Beytepe+G%C3%BCn) - hospital area and current startup hub.\n",
        "- [Yükseköğretim Kurulu](https://nominatim.openstreetmap.org/ui/search.html?q=Y%C3%BCksek%C3%B6%C4%9Fretim+Kurulu) - YÖK building in Bilkent.\n",
        "\n",
        "We could figure out the coordinates for these locations manually, and create shapely points based on the coordinates.\n",
        "However,  it is more handy to fetch the location of our source destination directly from OSM:"
      ]
    },
    {
      "cell_type": "code",
      "execution_count": null,
      "metadata": {
        "id": "zBj6RLMhBhh4"
      },
      "outputs": [],
      "source": [
        "# Set place name\n",
        "placename = \"Beytepe Gün Hastanesi\""
      ]
    },
    {
      "cell_type": "code",
      "execution_count": null,
      "metadata": {
        "id": "fXsGtepfBhh4"
      },
      "outputs": [],
      "source": [
        "# Geocode the place name\n",
        "geocoded_place = ox.geocode_to_gdf(placename)"
      ]
    },
    {
      "cell_type": "code",
      "execution_count": null,
      "metadata": {
        "id": "xRZ0A6waBhh4"
      },
      "outputs": [],
      "source": [
        "# Check the result\n",
        "geocoded_place"
      ]
    },
    {
      "cell_type": "code",
      "execution_count": null,
      "metadata": {
        "id": "5fMxqfYvBhh4"
      },
      "outputs": [],
      "source": [
        "geocoded_place.crs"
      ]
    },
    {
      "cell_type": "markdown",
      "metadata": {
        "id": "hQ-NbCQ-Bhh5"
      },
      "source": [
        "As output, we received the building footprint. From here, we can get the centroid as the source location of our shortest path analysis. However, we first need to project the data into the correct crs:"
      ]
    },
    {
      "cell_type": "code",
      "execution_count": null,
      "metadata": {
        "id": "ia8BNqeUBhh5"
      },
      "outputs": [],
      "source": [
        "# Re-project into the same CRS as the road network\n",
        "geocoded_place = geocoded_place.to_crs(CRS(edges_proj.crs))"
      ]
    },
    {
      "cell_type": "code",
      "execution_count": null,
      "metadata": {
        "id": "DpM1dC-TBhh5"
      },
      "outputs": [],
      "source": [
        "geocoded_place.crs"
      ]
    },
    {
      "cell_type": "code",
      "source": [
        "geocoded_place"
      ],
      "metadata": {
        "id": "fOoI-BD5D10F"
      },
      "execution_count": null,
      "outputs": []
    },
    {
      "cell_type": "code",
      "execution_count": null,
      "metadata": {
        "id": "REQ9YfbXBhh5"
      },
      "outputs": [],
      "source": [
        "# Get centroid as shapely point\n",
        "origin = geocoded_place[\"geometry\"].centroid.values[0]"
      ]
    },
    {
      "cell_type": "code",
      "execution_count": null,
      "metadata": {
        "id": "4yucefdaBhh5"
      },
      "outputs": [],
      "source": [
        "print(origin)"
      ]
    },
    {
      "cell_type": "markdown",
      "metadata": {
        "id": "T7n5SLAgBhh5"
      },
      "source": [
        "Great! Now we have defined the origin point for our network analysis.\n",
        "We can repeat the same steps to retrieve central point of *ruttopuisto*-park as the destination:"
      ]
    },
    {
      "cell_type": "code",
      "execution_count": null,
      "metadata": {
        "id": "KXPpCKpPBhh5"
      },
      "outputs": [],
      "source": [
        "# Set place name\n",
        "placename = \"Yükseköğretim Kurulu\"\n",
        "\n",
        "# Geocode the place name\n",
        "geocoded_place = ox.geocode_to_gdf(placename)\n",
        "\n",
        "# Re-project into the same CRS as the road network\n",
        "geocoded_place = geocoded_place.to_crs(CRS(edges_proj.crs))\n",
        "\n",
        "# Get centroid of the polygon as shapely point\n",
        "destination = geocoded_place[\"geometry\"].centroid.values[0]\n",
        "\n",
        "print(destination)"
      ]
    },
    {
      "cell_type": "markdown",
      "metadata": {
        "id": "ldUHB6jzBhh6"
      },
      "source": [
        "Now we have shapely points representing the origin and destination locations for our network analysis. Next step is to find these points on the routable network before the final routing."
      ]
    },
    {
      "cell_type": "markdown",
      "metadata": {
        "id": "BvI94E3bBhh6"
      },
      "source": [
        "#### Nearest node\n",
        "\n",
        "Let's now find the nearest graph nodes (and their node IDs) to these points using OSMnx [distance.nearest_nodes](https://osmnx.readthedocs.io/en/stable/osmnx.html#osmnx.distance.nearest_nodes).\n",
        "As a starting point, we have the two Shapely Point objects we just defined as the origin and destination locations.\n",
        "\n",
        "Find the nearest node to a point or to each of several points.\n",
        "\n",
        "If X and Y are single coordinate values, this will return the nearest node to that point. If X and Y are lists of coordinate values, this will return the nearest node to each point.\n",
        "\n",
        "If the graph is projected, this uses a k-d tree for euclidean nearest neighbor search, which requires that scipy is installed as an optional dependency. If it is unprojected, this uses a ball tree for haversine nearest neighbor search, which requires that scikit-learn is installed as an optional dependency."
      ]
    },
    {
      "cell_type": "code",
      "execution_count": null,
      "metadata": {
        "id": "s6Vchz8hBhh6"
      },
      "outputs": [],
      "source": [
        "# Find the node in the graph that is closest to the origin point (here, we want to get the node id)\n",
        "orig_node_id = ox.distance.nearest_nodes(graph_proj, origin.x, origin.y)\n",
        "orig_node_id"
      ]
    },
    {
      "cell_type": "code",
      "execution_count": null,
      "metadata": {
        "id": "j0EzJeSzBhh6"
      },
      "outputs": [],
      "source": [
        "# Find the node in the graph that is closest to the target point (here, we want to get the node id)\n",
        "target_node_id = ox.distance.nearest_nodes(graph_proj, destination.x, destination.y)\n",
        "target_node_id"
      ]
    },
    {
      "cell_type": "markdown",
      "metadata": {
        "id": "f0L3XN1ZBhh6"
      },
      "source": [
        "Now we have the IDs for the closest nodes that were found from the graph to the origin and target points that we specified.\n",
        "\n",
        "Let's retrieve the node information from the `nodes_proj` GeoDataFrame by passing the ids to the `loc` indexer"
      ]
    },
    {
      "cell_type": "code",
      "execution_count": null,
      "metadata": {
        "id": "ebhHa2pbBhh6"
      },
      "outputs": [],
      "source": [
        "nodes_proj.head()"
      ]
    },
    {
      "cell_type": "code",
      "execution_count": null,
      "metadata": {
        "id": "0VipcINJBhh6"
      },
      "outputs": [],
      "source": [
        "# Retrieve the rows from the nodes GeoDataFrame based on the node id (node id is the index label)\n",
        "orig_node = nodes_proj.loc[orig_node_id]\n",
        "target_node = nodes_proj.loc[target_node_id]"
      ]
    },
    {
      "cell_type": "code",
      "execution_count": null,
      "metadata": {
        "id": "GSG2i_ZVBhh6"
      },
      "outputs": [],
      "source": [
        "orig_node"
      ]
    },
    {
      "cell_type": "code",
      "execution_count": null,
      "metadata": {
        "id": "UBwYVVzgBhh7"
      },
      "outputs": [],
      "source": [
        "target_node"
      ]
    },
    {
      "cell_type": "markdown",
      "metadata": {
        "id": "nK7nv9-8Bhh7"
      },
      "source": [
        "Let's also create a GeoDataFrame that contains these points"
      ]
    },
    {
      "cell_type": "code",
      "execution_count": null,
      "metadata": {
        "id": "ydcFS28IBhh7"
      },
      "outputs": [],
      "source": [
        "# Create a GeoDataFrame from the origin and target points\n",
        "od_nodes = gpd.GeoDataFrame([orig_node, target_node], geometry='geometry', crs=nodes_proj.crs)\n",
        "od_nodes.head()"
      ]
    },
    {
      "cell_type": "markdown",
      "metadata": {
        "id": "vEBd6UuYBhh7"
      },
      "source": [
        "Okay, as a result we got now the closest node IDs of our origin and target locations. As you can see, the `index` in this GeoDataFrame corresponds to the IDs that we found with `distance.nearest_nodes()` function."
      ]
    },
    {
      "cell_type": "markdown",
      "metadata": {
        "id": "zTsp3rTzBhh7"
      },
      "source": [
        "#### Routing\n",
        "\n",
        "Now we are ready to do the routing and find the shortest path between the origin and target locations\n",
        "by using the `shortest_path()` [function](https://networkx.github.io/documentation/networkx-1.10/reference/generated/networkx.algorithms.shortest_paths.generic.shortest_path.html) of networkx.\n",
        "With `weight` -parameter we can specify that `'length'` attribute should be used as the cost impedance in the routing. If specifying the weight parameter, NetworkX will use by default Dijkstra's algorithm to find the optimal route. We need to specify the graph that is used for routing, and the origin `ID` (*source*) and the target `ID` in between the shortest path will be calculated:\n"
      ]
    },
    {
      "cell_type": "code",
      "execution_count": null,
      "metadata": {
        "id": "zBXrsPXxBhh7"
      },
      "outputs": [],
      "source": [
        "# Calculate the shortest path\n",
        "route = nx.shortest_path(G=graph_proj, source=orig_node_id, target=target_node_id, weight='length')\n",
        "\n",
        "# Show what we have\n",
        "print(route)"
      ]
    },
    {
      "cell_type": "markdown",
      "metadata": {
        "id": "BJzRfcMbBhh7"
      },
      "source": [
        "As a result we get a list of all the nodes that are along the shortest path.\n",
        "\n",
        "- We could extract the locations of those nodes from the `nodes_proj` GeoDataFrame and create a LineString presentation of the points, but luckily, OSMnx can do that for us and we can plot shortest path by using `plot_graph_route()` function:\n"
      ]
    },
    {
      "cell_type": "code",
      "execution_count": null,
      "metadata": {
        "id": "Z7ePFsx8Bhh7"
      },
      "outputs": [],
      "source": [
        "# Plot the shortest path\n",
        "fig, ax = ox.plot_graph_route(graph_proj, route)"
      ]
    },
    {
      "cell_type": "markdown",
      "metadata": {
        "id": "XSEMYdjuBhh8"
      },
      "source": [
        "Nice! Now we have the shortest path between our origin and target locations.\n",
        "Being able to analyze shortest paths between locations can be valuable information for many applications.\n",
        "Here, we only analyzed the shortest paths based on distance but quite often it is more useful to find the\n",
        "optimal routes between locations based on the travelled time. Here, for example we could calculate the time that it takes to cross each road segment by dividing the length of the road segment with the speed limit and calculate the optimal routes by taking into account the speed limits as well that might alter the result especially on longer trips than here."
      ]
    },
    {
      "cell_type": "markdown",
      "metadata": {
        "id": "17iY0EQpBhh8"
      },
      "source": [
        "## Saving shortest paths to disk\n",
        "\n",
        "Quite often you need to save the route into a file for further analysis and visualization purposes, or at least have it as a GeoDataFrame object in Python.\n",
        "Hence, let's continue still a bit and see how we can turn the route into a linestring and save the shortest path geometry and related attributes into a geopackage file.\n",
        "\n",
        "- First we need to get the nodes that belong to the shortest path:\n"
      ]
    },
    {
      "cell_type": "code",
      "execution_count": null,
      "metadata": {
        "id": "HbnX_OMZBhh8"
      },
      "outputs": [],
      "source": [
        "# Get the nodes along the shortest path\n",
        "route_nodes = nodes_proj.loc[route]\n",
        "route_nodes"
      ]
    },
    {
      "cell_type": "markdown",
      "metadata": {
        "id": "GC2MEPEABhh8"
      },
      "source": [
        "As we can see, now we have all the nodes that were part of the shortest path as a GeoDataFrame.\n",
        "\n",
        "- Now we can create a LineString out of the Point geometries of the nodes:"
      ]
    },
    {
      "cell_type": "code",
      "execution_count": null,
      "metadata": {
        "id": "AhWveZdEBhh8"
      },
      "outputs": [],
      "source": [
        "from shapely.geometry import LineString, Point\n",
        "\n",
        "# Create a geometry for the shortest path\n",
        "route_line = LineString(list(route_nodes[\"geometry\"].values))\n",
        "route_line"
      ]
    },
    {
      "cell_type": "code",
      "execution_count": null,
      "metadata": {
        "id": "kWXmeEn0Bhh8"
      },
      "outputs": [],
      "source": [
        "print(route_line)"
      ]
    },
    {
      "cell_type": "markdown",
      "metadata": {
        "id": "Chv8jUJLBhh8"
      },
      "source": [
        "Now we have the route as a LineString geometry.\n",
        "\n",
        "- Let's make a GeoDataFrame out of it having some useful information about our route such as a list of the osmids that are part of the route and the length of the route."
      ]
    },
    {
      "cell_type": "code",
      "execution_count": null,
      "metadata": {
        "id": "Un1bM6dsBhh8"
      },
      "outputs": [],
      "source": [
        "# Create a GeoDataFrame\n",
        "route_geom = gpd.GeoDataFrame([[route_line]], geometry='geometry', crs=edges_proj.crs, columns=['geometry'])\n",
        "route_geom"
      ]
    },
    {
      "cell_type": "code",
      "execution_count": null,
      "metadata": {
        "id": "8WY9ZOEXBhh8"
      },
      "outputs": [],
      "source": [
        "# Add a list of osmids associated with the route\n",
        "route_geom.loc[0, 'osmids'] = str(list(route_nodes.index.values))\n",
        "route_geom"
      ]
    },
    {
      "cell_type": "code",
      "execution_count": null,
      "metadata": {
        "id": "Ugb-ksdbBhh9"
      },
      "outputs": [],
      "source": [
        "\n",
        "# Calculate the route length\n",
        "route_geom['length_m'] = route_geom.length\n",
        "route_geom"
      ]
    },
    {
      "cell_type": "markdown",
      "metadata": {
        "id": "DE4gasvWBhh9"
      },
      "source": [
        "Now we have a GeoDataFrame that we can save to disk. Let's still confirm that everything is ok by plotting our route on top of our street network and some buildings, and plot also the origin and target points on top of our map.\n",
        "\n",
        "- Get buildings:"
      ]
    },
    {
      "cell_type": "code",
      "execution_count": null,
      "metadata": {
        "id": "dYUJ2_TzBhh9"
      },
      "outputs": [],
      "source": [
        "tags = {'building': True}\n",
        "buildings = ox.geometries_from_place(place_name, tags)"
      ]
    },
    {
      "cell_type": "markdown",
      "metadata": {
        "id": "1WSA6CwNBhh9"
      },
      "source": [
        "re-project buildings"
      ]
    },
    {
      "cell_type": "code",
      "execution_count": null,
      "metadata": {
        "id": "YZGk_O3zBhh9"
      },
      "outputs": [],
      "source": [
        "buildings_proj = buildings.to_crs(CRS(edges_proj.crs))"
      ]
    },
    {
      "cell_type": "markdown",
      "metadata": {
        "id": "pqGC_gPjBhh-"
      },
      "source": [
        "- Let's now plot the route and the street network elements to verify that everything is as it should:"
      ]
    },
    {
      "cell_type": "code",
      "execution_count": null,
      "metadata": {
        "id": "R1jL3cYrBhh-"
      },
      "outputs": [],
      "source": [
        "fig, ax = plt.subplots(figsize=(12,8))\n",
        "\n",
        "# Plot edges and nodes\n",
        "edges_proj.plot(ax=ax, linewidth=0.75, color='gray')\n",
        "nodes_proj.plot(ax=ax, markersize=2, color='gray')\n",
        "\n",
        "# Add buildings\n",
        "ax = buildings_proj.plot(ax=ax, facecolor='gray', alpha=0.7)\n",
        "\n",
        "# Add the route\n",
        "ax = route_geom.plot(ax=ax, linewidth=2, linestyle='--', color='red')\n",
        "\n",
        "# Add the origin and destination nodes of the route\n",
        "ax = od_nodes.plot(ax=ax, markersize=30, color='red')\n",
        "\n",
        "# Add basemap\n",
        "ctx.add_basemap(ax, crs=buildings_proj.crs, source=ctx.providers.CartoDB.Positron)"
      ]
    },
    {
      "cell_type": "markdown",
      "metadata": {
        "id": "3x6t6ldFBhh-"
      },
      "source": [
        "Great everything seems to be in order! As you can see, now we have a full control of all the elements of our map and we can use all the aesthetic properties that matplotlib provides to modify how our map will look like. Now we are almost ready to save our data into disk.\n"
      ]
    },
    {
      "cell_type": "markdown",
      "metadata": {
        "id": "-WG9G9I-Bhh-"
      },
      "source": [
        "## Prepare data for saving to file\n",
        "\n",
        "The data contain certain data types (such as `list` or `boolean`) that should be converted into character strings prior to saving the data to file.Another option would be to drop invalid columns."
      ]
    },
    {
      "cell_type": "code",
      "execution_count": null,
      "metadata": {
        "id": "nd_QTdkVBhh-"
      },
      "outputs": [],
      "source": [
        "edges_proj.head()"
      ]
    },
    {
      "cell_type": "code",
      "execution_count": null,
      "metadata": {
        "id": "BfnQYa_gBhh-"
      },
      "outputs": [],
      "source": [
        "# Columns with invalid values\n",
        "problematic_columns = [\n",
        "    \"osmid\",\n",
        "    \"lanes\",\n",
        "    \"name\",\n",
        "    \"highway\",\n",
        "    \"maxspeed\",\n",
        "    \"reversed\",\n",
        "    \"junction\",\n",
        "    \"bridge\",\n",
        "    \"tunnel\",\n",
        "    \"access\",\n",
        "    \"service\",\n",
        "\n",
        "]\n",
        "\n",
        "#  convert selected columns to string format\n",
        "edges[problematic_columns] = edges[problematic_columns].astype(str)\n"
      ]
    },
    {
      "cell_type": "code",
      "source": [
        "route_geom"
      ],
      "metadata": {
        "id": "ehlDWBXwP8P9"
      },
      "execution_count": null,
      "outputs": []
    },
    {
      "cell_type": "code",
      "source": [
        "route_geom[\"osmids\"] = route_geom[\"osmids\"].astype(str)"
      ],
      "metadata": {
        "id": "-gH4m6n6PyO-"
      },
      "execution_count": null,
      "outputs": []
    },
    {
      "cell_type": "markdown",
      "metadata": {
        "id": "ADljLF3sBhh_"
      },
      "source": [
        "\n",
        "## Save the data:"
      ]
    },
    {
      "cell_type": "code",
      "execution_count": null,
      "metadata": {
        "id": "Qr9BoJuPBhh_"
      },
      "outputs": [],
      "source": [
        "# Save one layer after another\n",
        "output_gpkg = \"Universiteler_Mah.gpkg\"\n",
        "\n",
        "edges.to_file(output_gpkg, layer=\"streets\")\n",
        "route_geom.to_file(output_gpkg, layer=\"route\")\n",
        "nodes_proj.to_file(output_gpkg, layer=\"nodes\")\n",
        "buildings[['geometry', 'name', 'addr:street']].to_file(output_gpkg, layer=\"buildings\")\n"
      ]
    },
    {
      "cell_type": "markdown",
      "metadata": {
        "id": "RYszsTxmBhh_"
      },
      "source": [
        "Great, now we have saved all the data that was used to produce the maps into a geopackage."
      ]
    }
  ],
  "metadata": {
    "kernelspec": {
      "display_name": "Python 3 (ipykernel)",
      "language": "python",
      "name": "python3"
    },
    "language_info": {
      "codemirror_mode": {
        "name": "ipython",
        "version": 3
      },
      "file_extension": ".py",
      "mimetype": "text/x-python",
      "name": "python",
      "nbconvert_exporter": "python",
      "pygments_lexer": "ipython3",
      "version": "3.10.4"
    },
    "colab": {
      "provenance": [],
      "include_colab_link": true
    }
  },
  "nbformat": 4,
  "nbformat_minor": 0
}